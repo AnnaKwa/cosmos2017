{
 "cells": [
  {
   "cell_type": "markdown",
   "metadata": {},
   "source": [
    "## Importing functions from libraries\n",
    "\n",
    "A Python library is a file containing a bunch of pre-written functions that can do a lot of useful things for you in just one command. We'll be using tools from the **numpy** and **matplotlib** libraries to make plots.\n",
    "\n",
    "The `import ...` statements in the block below tell Python that we need to load these libraries. Once they are loaded, we can use functions from the libraries."
   ]
  },
  {
   "cell_type": "code",
   "execution_count": null,
   "metadata": {
    "collapsed": true
   },
   "outputs": [],
   "source": [
    "%matplotlib inline\n",
    "import numpy as np\n",
    "import matplotlib.pyplot as plt"
   ]
  },
  {
   "cell_type": "markdown",
   "metadata": {},
   "source": [
    " To tell Python that we are using a function from a library we've imported, we prefix the function with the abbreviated name of the library that we specified during the `import` step. For example, if I want to use the square root function from the **numpy** library, I write"
   ]
  },
  {
   "cell_type": "code",
   "execution_count": null,
   "metadata": {
    "collapsed": false
   },
   "outputs": [],
   "source": [
    "np.sqrt(100.)"
   ]
  },
  {
   "cell_type": "markdown",
   "metadata": {},
   "source": [
    "### Plotting data\n",
    "\n",
    "Let's say you want to make a plot of two columns of data (x vs y). In this example, our data will be average temperature vs. month for two different citiies. The following code blocks shows how to do this."
   ]
  },
  {
   "cell_type": "code",
   "execution_count": null,
   "metadata": {
    "collapsed": true
   },
   "outputs": [],
   "source": [
    "months=[1,2,3,4,5,6,7,8,9,10,11,12]\n",
    "temps_irvine=[57,57,59,61,64,67,71,72,70,66,62,56]\n",
    "temps_boston=[28,32,39,48,59,68,75,73,66,54,45,34]"
   ]
  },
  {
   "cell_type": "code",
   "execution_count": null,
   "metadata": {
    "collapsed": false
   },
   "outputs": [],
   "source": [
    "fig = plt.figure(figsize=(10,8))\n",
    "ax=fig.add_subplot(111)\n",
    "\n",
    "ax.tick_params(labelsize=16)\n",
    "\n",
    "ax.plot(months, temps_irvine, marker='o', color='limegreen', label='Irvine')\n",
    "ax.plot(months, temps_boston, marker='s', color='coral', label='Boston')\n",
    "\n",
    "ax.set_xlabel('Month', fontsize=16)\n",
    "ax.set_ylabel('Temperature (Deg Farenheit)', fontsize=16)\n",
    "\n",
    "ax.set_xlim(1,12)\n",
    "ax.set_ylim(20,80)\n",
    "\n",
    "ax.legend(fontsize=18)"
   ]
  },
  {
   "cell_type": "markdown",
   "metadata": {},
   "source": [
    "### Exercise\n",
    "\n",
    "* Find some interesting data on the internet that might look good on a plot. For example, just try googling or looking up wikipedia articles for things like 'average yearly temperature', 'country GDP versus happiness', 'GDP vs meat consumption', etc.\n",
    "\n",
    "* Enter this data into list form (like the temperature example above), where the x axis and y axis quantities are in their own lists. \n",
    "\n",
    "* Use the code for the above plot as a template for making a plot of your own data. \n",
    "\n",
    "* Can you change the colors, marker shapes, axes labels, etc. in your plot? If you get stuck try looking up the help page for the **matplotlib** plotting package: https://matplotlib.org/ or ask your TA."
   ]
  },
  {
   "cell_type": "code",
   "execution_count": null,
   "metadata": {
    "collapsed": true
   },
   "outputs": [],
   "source": [
    "##### Write your code in the block(s) below #######\n",
    "\n",
    "\n",
    "\n",
    "\n",
    "\n",
    "\n"
   ]
  },
  {
   "cell_type": "markdown",
   "metadata": {},
   "source": [
    "### Bonus\n",
    "If you've made it to this part before the end of the session, pat yourself on the back. For an extra challenge, try find a 3 dimensional dataset online (or just make 3 lists, with each list giving the x/y/z coordinate in space of some point) and plot it using the instructions in the mplot3d tutorial: https://matplotlib.org/mpl_toolkits/mplot3d/tutorial.html"
   ]
  },
  {
   "cell_type": "code",
   "execution_count": null,
   "metadata": {
    "collapsed": true
   },
   "outputs": [],
   "source": [
    "##### Write your code in the block(s) below #######\n",
    "\n",
    "\n",
    "\n",
    "\n",
    "\n"
   ]
  }
 ],
 "metadata": {
  "kernelspec": {
   "display_name": "Python 2",
   "language": "python",
   "name": "python2"
  },
  "language_info": {
   "codemirror_mode": {
    "name": "ipython",
    "version": 2
   },
   "file_extension": ".py",
   "mimetype": "text/x-python",
   "name": "python",
   "nbconvert_exporter": "python",
   "pygments_lexer": "ipython2",
   "version": "2.7.13"
  }
 },
 "nbformat": 4,
 "nbformat_minor": 0
}
