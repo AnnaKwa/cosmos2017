{
 "cells": [
  {
   "cell_type": "markdown",
   "metadata": {},
   "source": [
    "## 0 What is Python? \n",
    "To keep it brief, Python is a programming language that works really well for coding quickly. It works really well as a first programming language because (1) it emphasizes code readability and (2) has a ton of pre-written code libraries that let us perform complicated tasks in just one or two lines of code.\n",
    "\n",
    "## 0.1 What are notebooks?\n",
    "The programming environment you are using today is called a notebook. You write the code in the cells and can execute individual cell blocks of code. The output of your code gets shown directly below the cell that it corresponds to."
   ]
  },
  {
   "cell_type": "markdown",
   "metadata": {},
   "source": [
    "## 0.2 Running code in the notebook\n",
    "Run a code cell using `Shift-Enter` or by pressing the <button class='btn btn-default btn-xs'><i class=\"icon-step-forward fa fa-step-forward\"></i></button> button in the toolbar above.\n",
    "\n",
    "Try executing the following block of code:"
   ]
  },
  {
   "cell_type": "code",
   "execution_count": null,
   "metadata": {
    "collapsed": false,
    "scrolled": true
   },
   "outputs": [],
   "source": [
    "print('Hello World!')"
   ]
  },
  {
   "cell_type": "code",
   "execution_count": null,
   "metadata": {
    "collapsed": false
   },
   "outputs": [],
   "source": [
    "name=raw_input('Enter your name: ')\n",
    "print('Hello '+name+' nice to meet you, I\\'m Python')"
   ]
  },
  {
   "cell_type": "markdown",
   "metadata": {},
   "source": [
    "## 1. Variables and assignment\n",
    "\n",
    "You can *assign* a value to a variable. Note that you can't have spaces in the name of a variable--instead, use underscores."
   ]
  },
  {
   "cell_type": "code",
   "execution_count": null,
   "metadata": {
    "collapsed": true
   },
   "outputs": [],
   "source": [
    "a=12\n",
    "b=2\n",
    "c=a\n",
    "\n",
    "A_b_c =10"
   ]
  },
  {
   "cell_type": "markdown",
   "metadata": {},
   "source": [
    "The `print()` command will be used often. It prints some output to the space below your code block (you can also use it to print directly into a file and save it). \n"
   ]
  },
  {
   "cell_type": "code",
   "execution_count": null,
   "metadata": {
    "collapsed": false,
    "scrolled": false
   },
   "outputs": [],
   "source": [
    "print(a)\n",
    "print(b)\n",
    "print(c)"
   ]
  },
  {
   "cell_type": "markdown",
   "metadata": {},
   "source": [
    "## 2. Types\n",
    "\n",
    "You can assign variables to refer to different types of objects. Here are some of the most common types you'll work with. If you're not sure what type of object one of your variables is, you can use \n",
    "\n",
    "    type( [variable name])\n",
    "\n",
    "to check.\n"
   ]
  },
  {
   "cell_type": "markdown",
   "metadata": {},
   "source": [
    "### Integers"
   ]
  },
  {
   "cell_type": "code",
   "execution_count": null,
   "metadata": {
    "collapsed": false
   },
   "outputs": [],
   "source": [
    "my_integer = 5\n",
    "print type(my_integer)\n",
    "print (my_integer)"
   ]
  },
  {
   "cell_type": "markdown",
   "metadata": {},
   "source": [
    "### Floats\n",
    "A float variable that has a decimal point in it and is much more precise that an integer. "
   ]
  },
  {
   "cell_type": "code",
   "execution_count": null,
   "metadata": {
    "collapsed": false,
    "scrolled": true
   },
   "outputs": [],
   "source": [
    "my_float = 1.0/9.2\n",
    "print type(my_float)\n",
    "print (my_float)"
   ]
  },
  {
   "cell_type": "markdown",
   "metadata": {},
   "source": [
    "You can use mathematical operations (+, -, etc.) on integers and floats."
   ]
  },
  {
   "cell_type": "code",
   "execution_count": null,
   "metadata": {
    "collapsed": false
   },
   "outputs": [],
   "source": [
    "my_integer1 = 2\n",
    "my_integer2 = 3\n",
    "\n",
    "my_float1 = 2.0\n",
    "my_float2 = 3.0\n",
    "\n",
    "print(my_integer1+my_integer2)\n",
    "print(my_float1+my_float2)\n",
    "\n",
    "\n",
    "print(my_integer1/my_integer2)\n",
    "print(my_float1/my_float2)"
   ]
  },
  {
   "cell_type": "markdown",
   "metadata": {},
   "source": [
    "In the last example above, you performed the division 2/3 twice: once using integers and again using floats.\n",
    "**Why do you think you get two different answers when you run the code cell above?**\n",
    "\n",
    "\n",
    "### Exercise\n",
    "In the empty cell below, write some code to add an integer to a float and then check the type of the resulting object. Is it an integer or a float?"
   ]
  },
  {
   "cell_type": "code",
   "execution_count": null,
   "metadata": {
    "collapsed": true
   },
   "outputs": [],
   "source": [
    "##### Write your code below in this block ##############\n",
    "\n",
    "\n",
    "\n",
    "\n",
    "\n"
   ]
  },
  {
   "cell_type": "markdown",
   "metadata": {},
   "source": [
    "### Strings\n",
    "A string is a collection of characters (words, sentences, etc.). You can also represent a number as a string, but if you do so you can't use it in mathematical operations like you would with integers or floats.\n",
    "\n",
    "Always use single quote marks to denote that something is a string when you declare it."
   ]
  },
  {
   "cell_type": "code",
   "execution_count": null,
   "metadata": {
    "collapsed": true
   },
   "outputs": [],
   "source": [
    "my_string = 'This is a string'\n",
    "my_number_string = '12345'"
   ]
  },
  {
   "cell_type": "code",
   "execution_count": null,
   "metadata": {
    "collapsed": false,
    "scrolled": true
   },
   "outputs": [],
   "source": [
    "print type(my_string)\n",
    "print type(my_number_string)\n",
    "print (my_string)\n",
    "print (my_number_string)"
   ]
  },
  {
   "cell_type": "markdown",
   "metadata": {},
   "source": [
    "You can also perform addition on strings, which will add them into one combined string. If you have a string representing a number, you cannot add it to a regular number (integer or float)."
   ]
  },
  {
   "cell_type": "code",
   "execution_count": null,
   "metadata": {
    "collapsed": false,
    "scrolled": false
   },
   "outputs": [],
   "source": [
    "my_number_string+1"
   ]
  },
  {
   "cell_type": "markdown",
   "metadata": {},
   "source": [
    " If you have a string representing a number, you cannot add it to a regular number (integer or float). \n",
    " \n",
    "### Exercise\n",
    "\n",
    "In the block below, write some code to declare a number value as a string and try add a float or integer to it."
   ]
  },
  {
   "cell_type": "code",
   "execution_count": null,
   "metadata": {
    "collapsed": true
   },
   "outputs": [],
   "source": [
    "##### Write your code below in this block ##############\n",
    "\n",
    "\n",
    "\n",
    "\n",
    "\n",
    "\n"
   ]
  },
  {
   "cell_type": "markdown",
   "metadata": {},
   "source": [
    "### Booleans\n",
    "\n",
    "Boolean objects are a binary type, which means they can only assume either `True` or `False` values. Typically `True=1`, `False=0`\n",
    "Notice the capitalization: `True`, not `true`!"
   ]
  },
  {
   "cell_type": "code",
   "execution_count": null,
   "metadata": {
    "collapsed": false
   },
   "outputs": [],
   "source": [
    "is_it_my_birthday = False\n",
    "is_the_sun_shining = True\n",
    "\n",
    "print type(is_the_sun_shining)\n",
    "print (is_the_sun_shining)"
   ]
  },
  {
   "cell_type": "markdown",
   "metadata": {},
   "source": [
    "### Lists\n",
    "\n",
    "You can also create a list (aka array) of values, strings, Booleans, etc. Researchers often use lists and arrays to store their data in a way that makes it easy to analyze.\n",
    "\n",
    "In the example code block below, I've created two lists: one is a list of strings storing students' names, another is a list of integers storing their grades."
   ]
  },
  {
   "cell_type": "code",
   "execution_count": null,
   "metadata": {
    "collapsed": true
   },
   "outputs": [],
   "source": [
    "students = ['Jamal', 'Bobby', 'Teresa', 'Emily', 'Allison']\n",
    "grades = [99, 92, 77, 94, 58, 89]"
   ]
  },
  {
   "cell_type": "markdown",
   "metadata": {},
   "source": [
    "To pick out a value from a list, we refer to its *index* in square brackets:\n",
    "\n",
    "    list_name[index]\n",
    "\n",
    "Indexing starts at 0 in Python."
   ]
  },
  {
   "cell_type": "code",
   "execution_count": null,
   "metadata": {
    "collapsed": false,
    "scrolled": false
   },
   "outputs": [],
   "source": [
    "print(students[0], grades[0])"
   ]
  },
  {
   "cell_type": "markdown",
   "metadata": {},
   "source": [
    "### Exercise\n",
    "\n",
    "In the block below, **write a line of code that will print the name and grade of the third student in the lists above.**"
   ]
  },
  {
   "cell_type": "code",
   "execution_count": null,
   "metadata": {
    "collapsed": true
   },
   "outputs": [],
   "source": [
    "##### Write your code below in this block ##############\n",
    "\n",
    "\n",
    "\n",
    "\n"
   ]
  },
  {
   "cell_type": "markdown",
   "metadata": {},
   "source": [
    "## 3. Control Structures\n",
    "\n",
    "### For statements\n",
    "\n",
    "You give a 'for' statement a list of things, and say 'for each thing in this list, do ...'. The examples below will give you a better understanding of this."
   ]
  },
  {
   "cell_type": "code",
   "execution_count": null,
   "metadata": {
    "collapsed": false,
    "scrolled": true
   },
   "outputs": [],
   "source": [
    "for i in range(0,10):    # range(0,10) is actually the numbers 0 through 9.\n",
    "    print(i)"
   ]
  },
  {
   "cell_type": "markdown",
   "metadata": {},
   "source": [
    "Note that there are multiple ways to write for loops in Python. The two code blocks below demonstrate two ways of printing all the strings in a list of strings. The first method has the for loop count from 0-5 and references the index of each string in the list. The second method just tells Python to print each string in the list, in order."
   ]
  },
  {
   "cell_type": "code",
   "execution_count": null,
   "metadata": {
    "collapsed": false,
    "scrolled": true
   },
   "outputs": [],
   "source": [
    "string_list=['Hello','I','am','a','computer']\n",
    "for i in range(0,5):\n",
    "    print(string_list[i])"
   ]
  },
  {
   "cell_type": "code",
   "execution_count": null,
   "metadata": {
    "collapsed": false
   },
   "outputs": [],
   "source": [
    "for str in string_list:\n",
    "    print(str)"
   ]
  },
  {
   "cell_type": "markdown",
   "metadata": {},
   "source": [
    "### Exercise\n",
    "In the block below, \n",
    "* create two lists: one is a list of names of different food items, the other is your ranking of them on a scale of 1-10\n",
    "* Write a for loop that prints out the name of the food and your ranking for each element in your list"
   ]
  },
  {
   "cell_type": "code",
   "execution_count": null,
   "metadata": {
    "collapsed": true
   },
   "outputs": [],
   "source": [
    "##### Write your code below in this block ##############\n",
    "\n",
    "\n",
    "\n",
    "\n",
    "\n",
    "\n",
    "\n",
    "\n",
    "\n",
    "\n",
    "\n"
   ]
  },
  {
   "cell_type": "markdown",
   "metadata": {},
   "source": [
    "### If statements\n",
    "\n",
    "If (some condition) is True, do (the indented code below it).\n",
    "\n",
    "In the following example, we have a list of integers from 1-10. We use a for loop to go through the list and check each number. If a number is divisible by 2, the code outputs 'Even number'. If it is not, it outputs 'Odd number'.\n",
    "\n",
    "To check whether a number is divisible by another number, we use the modulus operator, which is a % sign in Python. Modulus give you the remainder after you divide one number by another. For example, 4%2=0 because 4 is divisible by 2. 14%6=2, because 6 fits twice into 14 with a remainder of 2."
   ]
  },
  {
   "cell_type": "code",
   "execution_count": null,
   "metadata": {
    "collapsed": false
   },
   "outputs": [],
   "source": [
    "integer_list=[1,2,3,4,5,6,7,8,9,10]\n",
    "\n",
    "for number in integer_list:\n",
    "    # the double equals sign means to check whether the two sides are equal to each other. a single equals sign is used to assign variables\n",
    "    if number%2==0:  \n",
    "        print( repr(number)+' is even')\n",
    "    else:\n",
    "        print( repr(number)+' is odd')"
   ]
  },
  {
   "cell_type": "markdown",
   "metadata": {},
   "source": [
    "You can also check for other things using if statements, such as whether one number is larger than another. The 'elif' is read as 'if else', and executes if the if statement above it is not true."
   ]
  },
  {
   "cell_type": "code",
   "execution_count": null,
   "metadata": {
    "collapsed": false
   },
   "outputs": [],
   "source": [
    "\n",
    "for number in integer_list:\n",
    "    # the double equals sign means to check whether the two sides are equal to each other. a single equals sign is used to assign variables\n",
    "    if number<5:  \n",
    "        print( repr(number)+' < 5')\n",
    "    elif number==5:\n",
    "        print( repr(number)+' = 5')\n",
    "    else:\n",
    "        print( repr(number)+' > 5') "
   ]
  },
  {
   "cell_type": "markdown",
   "metadata": {},
   "source": [
    "### Exercise \n",
    "\n",
    "In the code block below, **write a for loop with an if statement inside of it (similar to the example above) that checks each number from 0-10 and prints a statement telling you whether it is divisible by 2, divisible by 3, divisible with both, or divisible by neither**."
   ]
  },
  {
   "cell_type": "code",
   "execution_count": null,
   "metadata": {
    "collapsed": true
   },
   "outputs": [],
   "source": [
    "##### Write your code below in this block ##############\n",
    "\n",
    "\n",
    "\n",
    "\n",
    "\n",
    "\n",
    "\n",
    "\n",
    "\n",
    "\n"
   ]
  }
 ],
 "metadata": {
  "kernelspec": {
   "display_name": "Python 2",
   "language": "python",
   "name": "python2"
  },
  "language_info": {
   "codemirror_mode": {
    "name": "ipython",
    "version": 2
   },
   "file_extension": ".py",
   "mimetype": "text/x-python",
   "name": "python",
   "nbconvert_exporter": "python",
   "pygments_lexer": "ipython2",
   "version": "2.7.13"
  }
 },
 "nbformat": 4,
 "nbformat_minor": 0
}
