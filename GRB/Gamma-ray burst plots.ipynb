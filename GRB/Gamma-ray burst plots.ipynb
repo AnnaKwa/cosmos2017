{
 "cells": [
  {
   "cell_type": "markdown",
   "metadata": {},
   "source": [
    "# Plotting photon data from gamma-ray bursts"
   ]
  },
  {
   "cell_type": "markdown",
   "metadata": {},
   "source": [
    "#### This block of code imports the functions we need from the matplotlib and numpy libraries."
   ]
  },
  {
   "cell_type": "code",
   "execution_count": null,
   "metadata": {
    "collapsed": false
   },
   "outputs": [],
   "source": [
    "%matplotlib notebook\n",
    "import matplotlib.pyplot as plt\n",
    "import numpy as np"
   ]
  },
  {
   "cell_type": "markdown",
   "metadata": {},
   "source": [
    "### In the code block below, enter in the appropriate fields for:\n",
    "\n",
    "* `lightcurvefile`: enter the name of the light curve file you downloaded for the GRB we are studying. It should have the name format 'photon\\_time\\_energy\\_...txt'.\n",
    "\n",
    "\n",
    "* `t_interval`: To construct the light curve for the gamma-ray burst, we are going to count the number of photons that arrive per xxx second interval and plot that as a function of time. Pick a 'bin size' in units of seconds for your plot below. You can always change this later if you think a different bin size would suit your analysis better.\n",
    "\n",
    "\n",
    "* `cut_time`: You can choose to cut out some data from the beginning or end of the dataset and focus your graph on the most interesting time range. For your first time through the data analysis, just say 'no' aka 0. If you do answer 'yes' or 1, set `tstart_cut` and `tstop_cut` to the number of seconds after the beginning of the dataset that you want to use as your time range. "
   ]
  },
  {
   "cell_type": "code",
   "execution_count": null,
   "metadata": {
    "collapsed": false
   },
   "outputs": [],
   "source": [
    "lightcurvefile=  'photon_time_energy_GRBblahblahblah.txt'    # Enter name of light curve file \n",
    "\n",
    "t_interval=  1        #  Enter time interval for binning (seconds): ')\n",
    "# the line above automatically records your input as a string, we want to convert this to a float so we can use it as a number\n",
    "t_interval=float(t_interval)         \n",
    "\n",
    "cut_time= 0         # Enter 1 for yes, 0 for no\n",
    "\n",
    "if cut_time==1:\n",
    "    tstart_cut= 10 #input('Enter start time (first arrival time is t=0 seconds): ')\n",
    "    tstop_cut= 500  #input('Enter end time (first arrival time is t=0 seconds): ')\n",
    "else:\n",
    "    tstart_cut = 0\n",
    "    tstop_cut= np.inf"
   ]
  },
  {
   "cell_type": "markdown",
   "metadata": {},
   "source": [
    "## Now you can run the next three blocks and produce a light curve for your gamma-ray burst"
   ]
  },
  {
   "cell_type": "markdown",
   "metadata": {},
   "source": [
    "#### This block of code will print time for the earliest photon event in your dataset and the arrival times and energies of the least/most energetic photon events."
   ]
  },
  {
   "cell_type": "code",
   "execution_count": null,
   "metadata": {
    "collapsed": false
   },
   "outputs": [],
   "source": [
    "energy, t0 = np.loadtxt(lightcurvefile,unpack=True)\n",
    "min_t = np.min(t0)\n",
    "min_E = np.min(energy)\n",
    "max_E = np.max(energy)\n",
    "print ('Earliest event time = '+repr(min_t)+' s, MET')\n",
    "print ('Lowest energy photon: energy=', repr(min_E), ' MeV , arrival time = ',t0[np.argmin(energy)],' s, MET')\n",
    "print ('Hightest energy photon: energy=', repr(max_E), ' MeV , arrival time = ',t0[np.argmax(energy)],' s, MET')"
   ]
  },
  {
   "cell_type": "markdown",
   "metadata": {},
   "source": [
    "#### This block of code divides the time range of your data set into 'bins' and counts the number of photons that arrived at the detector in each time bin"
   ]
  },
  {
   "cell_type": "code",
   "execution_count": null,
   "metadata": {
    "collapsed": false
   },
   "outputs": [],
   "source": [
    "t=[]\n",
    "for i in range(len(t0)):\n",
    "    t0[i]=t0[i]-min_t\n",
    "    \n",
    "if cut_time==0:\n",
    "    t=t0\n",
    "    \n",
    "elif cut_time==1:\n",
    "    for i in range(len(t0)):\n",
    "        if t0[i]>tstart_cut and t0[i]<tstop_cut:\n",
    "            t.append(t0[i])\n",
    "    "
   ]
  },
  {
   "cell_type": "markdown",
   "metadata": {},
   "source": [
    "#### Now we are plotting the number of photons detected as a function of time. The beginning of the gamma-ray burst should be really evident once you make this plot!"
   ]
  },
  {
   "cell_type": "code",
   "execution_count": null,
   "metadata": {
    "collapsed": false,
    "scrolled": true
   },
   "outputs": [],
   "source": [
    "fig=plt.figure(figsize=(8,6))\n",
    "ax=fig.add_subplot(111)\n",
    "\n",
    "t_interval=float(t_interval)    \n",
    "Nbins=int( (np.max(t)-np.min(t))/t_interval)\n",
    "\n",
    "ax.hist(t, bins=Nbins)\n",
    "\n",
    "\n",
    "# Here you can change the plotting labels\n",
    "ax.set_xlabel('Time since start of dataset [seconds]')\n",
    "ax.set_ylabel('Number of photons in '+repr(t_interval)+' sec time interval')\n",
    "plt.show()"
   ]
  },
  {
   "cell_type": "markdown",
   "metadata": {},
   "source": [
    "### Now, you want to focus your light curve plot on the time range that is most interesting, which starts approximately 5 seconds before the start of the burst and ends about 5 seconds after you think the photon detection rate has gone back down to what it was before the burst. To do so, you can either (1) use the interactive zoom tool (white rectangle) or (2) go through this notebook again and set the time cuts in the step where you entered in your filename and time bin size. \n",
    "\n",
    "### You can also change the bin size if you think it will make your plot more informative."
   ]
  }
 ],
 "metadata": {
  "kernelspec": {
   "display_name": "Python 3",
   "language": "python",
   "name": "python3"
  },
  "language_info": {
   "codemirror_mode": {
    "name": "ipython",
    "version": 3
   },
   "file_extension": ".py",
   "mimetype": "text/x-python",
   "name": "python",
   "nbconvert_exporter": "python",
   "pygments_lexer": "ipython3",
   "version": "3.6.1"
  }
 },
 "nbformat": 4,
 "nbformat_minor": 0
}
